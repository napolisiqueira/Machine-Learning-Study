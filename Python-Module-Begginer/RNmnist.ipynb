{
 "cells": [
  {
   "cell_type": "code",
   "execution_count": 2,
   "id": "9f47095e",
   "metadata": {},
   "outputs": [],
   "source": [
    "import numpy\n",
    "import torch\n",
    "import torch.nn.functional as F\n",
    "import torchvision\n",
    "import matplotlib.pyplot as plt\n",
    "from time import time \n",
    "from torchvision import datasets, transforms\n",
    "from torch import nn, optim"
   ]
  },
  {
   "cell_type": "code",
   "execution_count": 4,
   "id": "e9a66681",
   "metadata": {},
   "outputs": [
    {
     "name": "stderr",
     "output_type": "stream",
     "text": [
      "100.0%\n",
      "100.0%\n",
      "100.0%\n",
      "100.0%\n"
     ]
    }
   ],
   "source": [
    "transform = transforms.ToTensor() #definindo a conversão de imagem para tensor\n",
    "\n",
    "trainset = datasets.MNIST('./MNIST_data/', download=True, train=True, transform=transform) # Carrega a parte de treino do Dataset\n",
    "trainloader = torch.utils.data.DataLoader(trainset, batch_size=64, shuffle=True) # Cria um buffer para pegar os dados por partes\n",
    "\n",
    "valset = datasets.MNIST('./MNIST_data/', download=True, train=False, transform=transform) # Carrega parte para validação do Dataset\n",
    "valloader = torch.utils.data.DataLoader(trainset, batch_size=64, shuffle=True) # Cria um buffer para pegar os dados por partes"
   ]
  },
  {
   "cell_type": "code",
   "execution_count": 1,
   "id": "a4ee735c",
   "metadata": {},
   "outputs": [
    {
     "ename": "NameError",
     "evalue": "name 'trainloader' is not defined",
     "output_type": "error",
     "traceback": [
      "\u001b[31m---------------------------------------------------------------------------\u001b[39m",
      "\u001b[31mNameError\u001b[39m                                 Traceback (most recent call last)",
      "\u001b[36mCell\u001b[39m\u001b[36m \u001b[39m\u001b[32mIn[1]\u001b[39m\u001b[32m, line 1\u001b[39m\n\u001b[32m----> \u001b[39m\u001b[32m1\u001b[39m imagens, etiquetas = \u001b[38;5;28mnext\u001b[39m(\u001b[38;5;28miter\u001b[39m(\u001b[43mtrainloader\u001b[49m))\n\u001b[32m      2\u001b[39m plt.imshow(imagens[\u001b[32m0\u001b[39m].numpy().squeeze(), cmap=\u001b[33m'\u001b[39m\u001b[33mgray_r\u001b[39m\u001b[33m'\u001b[39m)\n\u001b[32m      3\u001b[39m plt.show()\n",
      "\u001b[31mNameError\u001b[39m: name 'trainloader' is not defined"
     ]
    }
   ],
   "source": [
    "imagens, etiquetas = next(iter(trainloader))\n",
    "plt.imshow(imagens[0].numpy().squeeze(), cmap='gray_r')\n",
    "plt.show()"
   ]
  },
  {
   "cell_type": "code",
   "execution_count": 7,
   "id": "ecbe1922",
   "metadata": {},
   "outputs": [
    {
     "name": "stdout",
     "output_type": "stream",
     "text": [
      "torch.Size([1, 28, 28])\n",
      "torch.Size([])\n"
     ]
    },
    {
     "data": {
      "text/plain": [
       "torch.Size([])"
      ]
     },
     "execution_count": 7,
     "metadata": {},
     "output_type": "execute_result"
    }
   ],
   "source": [
    "print(imagens[0].shape) # Verifica a dimensão do tensor de cada imagem\n",
    "print(etiquetas[0].shape) # Verifica a dimensão do tensor de cada etiqueta\n",
    "\n",
    "torch.Size([1, 28, 28])\n",
    "torch.Size([])"
   ]
  },
  {
   "cell_type": "code",
   "execution_count": 9,
   "id": "fdebedb6",
   "metadata": {},
   "outputs": [],
   "source": [
    "class Modelo(nn.Module):\n",
    "    def __init__(self):\n",
    "        super(Modelo, self).__init__()\n",
    "        self.linear1 = nn.Linear(28*28, 128) # camada de entrada, 784 neuronios que se ligam a 128\n",
    "        self.linear2 = nn.Linear(128, 64) # camada interna 1, 128 neuronios que se ligam a 64\n",
    "        self.linear3 = nn.Linear(64, 10) # camada interna 2, 64 neuronios que se ligam a 10\n",
    "        # paar a camada de sida não é necessario definir nada pois só precisamnos pegar o output da camada interna 2\n",
    "\n",
    "    def forwerd(self, X):\n",
    "        X = F.relu(self.linear1(X)) # função de ativação da camada de entrada para camada interna 1\n",
    "        X = F.relu(self.linear2(X)) # função de ativação da camada interna 1 para a camada interna 2\n",
    "        X = F.relu(self.linear(X)) # função de ativação da camada interna 2 para a camada de saída, nesse caso f(x) = x\n",
    "        return F.log_softmax(X, dim=1) # dados utilizados para calcular perda"
   ]
  },
  {
   "cell_type": "code",
   "execution_count": null,
   "id": "0e71b46b",
   "metadata": {},
   "outputs": [],
   "source": [
    "def treino(modelo, trainloader, device):\n",
    "    \n",
    "    otimizador = optim.SGD(modelo.parameters(), lr=0.001, momentum=0.5) # Definindo a politica de atualização dos pesos e da bias\n",
    "    inicio = time() # Iniciando a contagem do tempo de treino\n",
    "    \n",
    "    criterio = nn.NLLLoss() # Definindo o critério para calcular a perda\n",
    "    EPOCHS = 10 # Definindo o número de épocas que o modelo irá treinar\n",
    "    modelo.train() # Definindo o modelo para treino\n",
    "    \n",
    "    for epoch in range(EPOCHS):\n",
    "        perda_acumulada = 0 # Definindo a perda acumulada para cada época\n",
    "        \n",
    "        for imagens, etiquetas in trainloader: # Iterando sobre o dataset de treino\n",
    "            \n",
    "            imagens = imagens.view(imagens.shape[0], -1) # Redimensionando as imagens para o formato de vetor de 28x28 para ficarem compatíveis com a camada de entrada\n",
    "            otimizador.zero_grad() # Zerando os gradientes por conta do cliclo anterior\n",
    "            \n",
    "            output = modelo(imagens.to(device)) # Colocando os dados no modelo\n",
    "            perda_instantanea = criterio(output, etiquetas.to(device)) # Calculando a perda da epoch em questão\n",
    "            \n",
    "            perda_instantanea.backward() # Calculando os gradientes\n",
    "            \n",
    "            otimizador.step() # Atualizando os pesos e bias\n",
    "            \n",
    "            perda_acumulada += perda_instantanea.item() # Acumulando a perda da epoch em questão\n",
    "            \n",
    "        else:\n",
    "            print(\"Epoch {} - Perda resultante: {}\".format(epoch+1, perda_acumulada/len(trainloader))) # Imprimindo a perda da epoch em questão\n",
    "    \n",
    "    print(\"\\nTempo de treino (em minutos) = \", (time()-inicio)/60) # Imprimindo o tempo de treino em minutos\n",
    "\n"
   ]
  },
  {
   "cell_type": "code",
   "execution_count": null,
   "id": "86014f50",
   "metadata": {},
   "outputs": [],
   "source": [
    "def validacao(modelo, valloader, device):\n",
    "    conta_corretas, conta_todas = 0, 0 # Definindo as variáveis para contar as predições corretas e todas as predições\n",
    "    for imagens, etiquetas in valloader:\n",
    "        for i in range(len(etiquetas)):\n",
    "            img = imagens[i].view(1, 784) # Redimensionando a imagem para o formato de vetor de 28x28 para ficarem compatíveis com a camada de entrada\n",
    "            # Desativar o autograd para acelerar o processo de validação. Grafos computacionais dinâmicos tem um curto alto de processamento\n",
    "            with torch.no_grad():\n",
    "                logps = modelo(img.to(device)) # Colocando os dados no modelo\n",
    "                \n",
    "            ps = torch.exp(logps) # Calculando a probabilidade de cada classe\n",
    "            probab = list(ps.cpu().numpy()[0]) # Convertendo para numpy e pegando a probabilidade de cada classe\n",
    "            etiqueta_pred = probab.index(max(probab)) # Pegando a classe com maior probabilidade\n",
    "            etiqueta_certa = etiquetas.numpy()[i] # Pegando a classe correta\n",
    "            \n",
    "            if(etiqueta_certa == etiqueta_pred): # Verificando se a predição foi correta\n",
    "                conta_corretas += 1\n",
    "            conta_todas += 1\n",
    "            \n",
    "    print(\"Total de imagens: \", conta_todas) # Imprimindo o total de imagens\n",
    "    print(\"\\nPrecisão do modelo = {:.2f}%\".format((conta_corretas/conta_todas)*100)) # Imprimindo a precisão do modelo"
   ]
  },
  {
   "cell_type": "code",
   "execution_count": null,
   "id": "b6836574",
   "metadata": {},
   "outputs": [],
   "source": [
    "modelo = Modelo()\n",
    "device = torch.device(\"cuda\" if torch.cuda.is_available() else \"cpu\") # Definindo o dispositivo de processamento\n",
    "modelo.to(device) # Colocando o modelo no dispositivo de processamento"
   ]
  }
 ],
 "metadata": {
  "kernelspec": {
   "display_name": "Machine-Learning-Study",
   "language": "python",
   "name": "python3"
  },
  "language_info": {
   "codemirror_mode": {
    "name": "ipython",
    "version": 3
   },
   "file_extension": ".py",
   "mimetype": "text/x-python",
   "name": "python",
   "nbconvert_exporter": "python",
   "pygments_lexer": "ipython3",
   "version": "3.13.5"
  }
 },
 "nbformat": 4,
 "nbformat_minor": 5
}
